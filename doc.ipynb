{
 "cells": [
  {
   "cell_type": "code",
   "execution_count": null,
   "metadata": {},
   "outputs": [],
   "source": [
    "initializer = GlorotUniform()\n",
    "W_tf = initializer(shape=(1, 500))\n",
    "\n",
    "W = initialize_weight(input_shape=1,\n",
    "                      output_shape=500)\n",
    "\n",
    "\n",
    "plt.figure(figsize=(20, 15))\n",
    "\n",
    "plt.subplot(2, 1, 1)\n",
    "plt.hist(W[0, :], bins=150)\n",
    "plt.title(f\"Weight Matrix Shape : {W.shape}, Type :{W.dtype}\")\n",
    "plt.xlabel(\"Value of Weight\")\n",
    "plt.ylabel(\"Number of Weight\")\n",
    "\n",
    "\n",
    "plt.subplot(2, 1, 2)\n",
    "plt.hist(W_tf[0, :], bins=150)\n",
    "plt.title(f\"Weight TF Matrix Shape : {W_tf.shape}, Type :{W_tf.dtype}\")\n",
    "plt.xlabel(\"Value of Weight\")\n",
    "plt.ylabel(\"Number of Weight\")"
   ]
  },
  {
   "cell_type": "code",
   "execution_count": null,
   "metadata": {},
   "outputs": [],
   "source": [
    "from tensorflow.math import sigmoid\n",
    "\n",
    "X = np.zeros(shape=(200))\n",
    "# X = tf.cast(tf.range(-10, 10), tf.float32)\n",
    "\n",
    "Activation = SoftMax()\n",
    "# output = sigmoid(X)\n",
    "output = Activation(X)\n",
    "\n",
    "# print(X.shape)\n",
    "# print(output.shape)\n",
    "plt.figure(figsize=(15, 5))\n",
    "\n",
    "plt.subplot(1, 2, 1)\n",
    "plt.title(f\"Shape : {X.shape}\")\n",
    "plt.plot(X)\n",
    "\n",
    "\n",
    "plt.subplot(1, 2, 2)\n",
    "plt.title(f\"Shape : {output.shape}\")\n",
    "plt.plot(output)"
   ]
  }
 ],
 "metadata": {
  "kernelspec": {
   "display_name": "tf_gpu",
   "language": "python",
   "name": "python3"
  },
  "language_info": {
   "name": "python",
   "version": "3.8.0 (default, Nov  6 2019, 21:49:08) \n[GCC 7.3.0]"
  },
  "orig_nbformat": 4,
  "vscode": {
   "interpreter": {
    "hash": "7af6488317c4eae45cfe2d92ddcd760ac10ac76eee454fa0eead8075769044a8"
   }
  }
 },
 "nbformat": 4,
 "nbformat_minor": 2
}
